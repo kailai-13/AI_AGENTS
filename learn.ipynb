{
 "cells": [
  {
   "cell_type": "code",
   "execution_count": 4,
   "metadata": {},
   "outputs": [
    {
     "name": "stdout",
     "output_type": "stream",
     "text": [
      "Result: I counter, Price: 40.0\n",
      "Result: I accept, Price: 80\n"
     ]
    }
   ],
   "source": [
    "# Let's start SUPER simple - no AI yet, just basic logic\n",
    "\n",
    "def simple_buyer(seller_price, my_budget):\n",
    "    \"\"\"\n",
    "    The world's simplest negotiation agent\n",
    "    \"\"\"\n",
    "    if seller_price <= my_budget:\n",
    "        return \"I accept\", seller_price\n",
    "    else:\n",
    "        counter_offer = my_budget * 0.8  # Offer 80% of budget\n",
    "        return \"I counter\", counter_offer\n",
    "\n",
    "# Test it:\n",
    "result, price = simple_buyer(seller_price=100, my_budget=50)\n",
    "print(f\"Result: {result}, Price: {price}\")\n",
    "# Output: Result: I counter, Price: 80.0\n",
    "\n",
    "result, price = simple_buyer(seller_price=80, my_budget=100) \n",
    "print(f\"Result: {result}, Price: {price}\")\n",
    "# Output: Result: I accept, Price: 80\n"
   ]
  },
  {
   "cell_type": "code",
   "execution_count": 5,
   "metadata": {},
   "outputs": [
    {
     "name": "stdout",
     "output_type": "stream",
     "text": [
      "product: mango\n",
      "market_price: 50\n",
      "budget: 40\n",
      "round_num: 1\n"
     ]
    }
   ],
   "source": [
    "class Product:\n",
    "    def __init__(self,name,market_price):\n",
    "        self.name=name\n",
    "        self.market_price=market_price\n",
    "class NegotiationInfo:\n",
    "    def __init__(self,product,budget,round_num):\n",
    "        self.product = product\n",
    "        self.budget = budget\n",
    "        self.round_num = round_num\n",
    "\n",
    "mango=Product('mango','50')\n",
    "info=NegotiationInfo(mango,40,1)\n",
    "\n",
    "print(f\"product: {info.product.name}\")\n",
    "print(f\"market_price: {info.product.market_price}\")\n",
    "print(f\"budget: {info.budget}\")\n",
    "print(f\"round_num: {info.round_num}\")"
   ]
  },
  {
   "cell_type": "code",
   "execution_count": 13,
   "metadata": {},
   "outputs": [
    {
     "name": "stdout",
     "output_type": "stream",
     "text": [
      "Action: I Accept, Price: 1000\n"
     ]
    }
   ],
   "source": [
    "def smart_buyer(product,seller_price,budget,round_num):\n",
    "    market_price=product.market_price\n",
    "    if seller_price<=budget:\n",
    "        if seller_price<=market_price*0.9:\n",
    "            return \"I Accept\",seller_price\n",
    "    if round_num<=3:\n",
    "        counter=seller_price*0.6\n",
    "    else:\n",
    "        counter=seller_price*0.85\n",
    "    counter=min(counter,budget)\n",
    "\n",
    "    return \"I Counter\", counter\n",
    "\n",
    "mango=Product('mango',10000)\n",
    "action,price=smart_buyer(mango,1000,10000,10)\n",
    "print(f\"Action: {action}, Price: {price}\")\n",
    "    "
   ]
  }
 ],
 "metadata": {
  "kernelspec": {
   "display_name": "Python 3",
   "language": "python",
   "name": "python3"
  },
  "language_info": {
   "codemirror_mode": {
    "name": "ipython",
    "version": 3
   },
   "file_extension": ".py",
   "mimetype": "text/x-python",
   "name": "python",
   "nbconvert_exporter": "python",
   "pygments_lexer": "ipython3",
   "version": "3.9.0"
  }
 },
 "nbformat": 4,
 "nbformat_minor": 2
}
