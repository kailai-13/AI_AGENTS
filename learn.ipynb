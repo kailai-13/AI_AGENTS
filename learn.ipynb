{
 "cells": [
  {
   "cell_type": "code",
   "execution_count": 4,
   "metadata": {},
   "outputs": [
    {
     "name": "stdout",
     "output_type": "stream",
     "text": [
      "Result: I counter, Price: 40.0\n",
      "Result: I accept, Price: 80\n"
     ]
    }
   ],
   "source": [
    "# Let's start SUPER simple - no AI yet, just basic logic\n",
    "\n",
    "def simple_buyer(seller_price, my_budget):\n",
    "    \"\"\"\n",
    "    The world's simplest negotiation agent\n",
    "    \"\"\"\n",
    "    if seller_price <= my_budget:\n",
    "        return \"I accept\", seller_price\n",
    "    else:\n",
    "        counter_offer = my_budget * 0.8  # Offer 80% of budget\n",
    "        return \"I counter\", counter_offer\n",
    "\n",
    "# Test it:\n",
    "result, price = simple_buyer(seller_price=100, my_budget=50)\n",
    "print(f\"Result: {result}, Price: {price}\")\n",
    "# Output: Result: I counter, Price: 80.0\n",
    "\n",
    "result, price = simple_buyer(seller_price=80, my_budget=100) \n",
    "print(f\"Result: {result}, Price: {price}\")\n",
    "# Output: Result: I accept, Price: 80\n"
   ]
  },
  {
   "cell_type": "code",
   "execution_count": 5,
   "metadata": {},
   "outputs": [
    {
     "name": "stdout",
     "output_type": "stream",
     "text": [
      "product: mango\n",
      "market_price: 50\n",
      "budget: 40\n",
      "round_num: 1\n"
     ]
    }
   ],
   "source": [
    "class Product:\n",
    "    def __init__(self,name,market_price):\n",
    "        self.name=name\n",
    "        self.market_price=market_price\n",
    "class NegotiationInfo:\n",
    "    def __init__(self,product,budget,round_num):\n",
    "        self.product = product\n",
    "        self.budget = budget\n",
    "        self.round_num = round_num\n",
    "\n",
    "mango=Product('mango','50')\n",
    "info=NegotiationInfo(mango,40,1)\n",
    "\n",
    "print(f\"product: {info.product.name}\")\n",
    "print(f\"market_price: {info.product.market_price}\")\n",
    "print(f\"budget: {info.budget}\")\n",
    "print(f\"round_num: {info.round_num}\")"
   ]
  },
  {
   "cell_type": "code",
   "execution_count": 13,
   "metadata": {},
   "outputs": [
    {
     "name": "stdout",
     "output_type": "stream",
     "text": [
      "Action: I Accept, Price: 1000\n"
     ]
    }
   ],
   "source": [
    "def smart_buyer(product,seller_price,budget,round_num):\n",
    "    market_price=product.market_price\n",
    "    if seller_price<=budget:\n",
    "        if seller_price<=market_price*0.9:\n",
    "            return \"I Accept\",seller_price\n",
    "    if round_num<=3:\n",
    "        counter=seller_price*0.6\n",
    "    else:\n",
    "        counter=seller_price*0.85\n",
    "    counter=min(counter,budget)\n",
    "\n",
    "    return \"I Counter\", counter\n",
    "\n",
    "mango=Product('mango',10000)\n",
    "action,price=smart_buyer(mango,1000,10000,10)\n",
    "print(f\"Action: {action}, Price: {price}\")\n",
    "    "
   ]
  },
  {
   "cell_type": "code",
   "execution_count": 17,
   "metadata": {},
   "outputs": [
    {
     "name": "stdout",
     "output_type": "stream",
     "text": [
      "Aggressive starts at 60.0% of market\n",
      "Friendly starts at 80.0% of market\n"
     ]
    }
   ],
   "source": [
    "class AgentPersonality:\n",
    "    def __init__(self,personality_type):\n",
    "        if personality_type == \"aggressive\":\n",
    "            self.opening_percent=0.6\n",
    "            self.concession_size=0.1\n",
    "            self.phrases=['i am Hommelander','u have no leverage']\n",
    "        elif personality_type == \"friendly\":\n",
    "            self.opening_percent=0.8\n",
    "            self.concession_size=0.2\n",
    "            self.phrases=['i am friendlt neighborhood spider-man','sorry if i hurt you']\n",
    "        elif personality_type == \"analytical\":\n",
    "            self.opening_percent=0.75\n",
    "            self.concession_size=0.15\n",
    "            self.phrases=['i am batman','i am the night']\n",
    "aggressive = AgentPersonality(\"aggressive\")\n",
    "friendly = AgentPersonality(\"friendly\")\n",
    "\n",
    "print(f\"Aggressive starts at {aggressive.opening_percent * 100}% of market\")\n",
    "print(f\"Friendly starts at {friendly.opening_percent * 100}% of market\")"
   ]
  },
  {
   "cell_type": "code",
   "execution_count": 33,
   "metadata": {},
   "outputs": [],
   "source": [
    "class PersonalityBuyer:\n",
    "    def __init__(self, personality):\n",
    "        self.personality = AgentPersonality(personality)\n",
    "        self.name=f\"{personality.title()} Buyer\"\n",
    "    def make_opening_offer(self,product,budget):\n",
    "        opening_price = product.market_price * self.personality.opening_percent\n",
    "        offer = min(opening_price, budget)\n",
    "        phrase=self.personality.phrases[0]\n",
    "        message=f\"{phrase}. I Offer {offer} for {product.name}.\"\n",
    "        return offer,message\n",
    "    def respond_to_seller(self,seller_price,seller_message,product,budget):\n",
    "        market_price=product.market_price\n",
    "        if seller_price <= budget and seller_price<= market_price:\n",
    "            return \"ACCept\",seller_price\n",
    "        gap=seller_price-(market_price*self.personality.opening_percent)\n",
    "        concession=gap*self.personality.concession_size\n",
    "        counter= (market_price*self.personality.opening_percent)+concession\n",
    "        phrase=self.personality.phrases[1]\n",
    "        message=f\"{phrase}. I counter with {counter}.\"\n",
    "        return counter,message\n",
    "        "
   ]
  },
  {
   "cell_type": "code",
   "execution_count": 34,
   "metadata": {},
   "outputs": [
    {
     "name": "stdout",
     "output_type": "stream",
     "text": [
      "i am Hommelander. I Offer 60000.0 for mango.\n"
     ]
    }
   ],
   "source": [
    "mango=Product(\"mango\",100000)\n",
    "aggressive_buyer=PersonalityBuyer('aggressive')\n",
    "offer,message=aggressive_buyer.make_opening_offer(mango,120000)\n",
    "print(message)"
   ]
  },
  {
   "cell_type": "code",
   "execution_count": 35,
   "metadata": {},
   "outputs": [],
   "source": [
    "offer,message=aggressive_buyer.respond_to_seller(80000,\"mudiyathu\",mango,12000)"
   ]
  },
  {
   "cell_type": "code",
   "execution_count": 36,
   "metadata": {},
   "outputs": [
    {
     "name": "stdout",
     "output_type": "stream",
     "text": [
      "u have no leverage. I counter with 62000.0.\n"
     ]
    }
   ],
   "source": [
    "print(message)"
   ]
  },
  {
   "cell_type": "markdown",
   "metadata": {},
   "source": []
  },
  {
   "cell_type": "code",
   "execution_count": 39,
   "metadata": {},
   "outputs": [
    {
     "name": "stdout",
     "output_type": "stream",
     "text": [
      "i am friendlt neighborhood spider-man. I Offer 80000.0 for mango.\n"
     ]
    }
   ],
   "source": [
    "friendly_buyer=PersonalityBuyer('friendly')\n",
    "offer,message=friendly_buyer.make_opening_offer(mango,120000)\n",
    "print(message)"
   ]
  },
  {
   "cell_type": "code",
   "execution_count": 48,
   "metadata": {},
   "outputs": [
    {
     "name": "stdout",
     "output_type": "stream",
     "text": [
      "sorry if i hurt you. I counter with 82000.0.\n",
      "82000.0\n"
     ]
    }
   ],
   "source": [
    "offer,message=friendly_buyer.respond_to_seller(90000,'mudiyathu',mango,85000)\n",
    "print(message)\n",
    "print(offer)"
   ]
  },
  {
   "cell_type": "code",
   "execution_count": 13,
   "metadata": {},
   "outputs": [
    {
     "name": "stdout",
     "output_type": "stream",
     "text": [
      "=== YOUR CONCORDIA INSTALLATION ===\n",
      "Version: Could not determine\n",
      "Location: c:\\Users\\Kaila\\AI_AGENTS\\concordia.py\n",
      "\n",
      "=== AVAILABLE MODULES ===\n"
     ]
    },
    {
     "ename": "AttributeError",
     "evalue": "module 'concordia' has no attribute '__path__'",
     "output_type": "error",
     "traceback": [
      "\u001b[1;31m---------------------------------------------------------------------------\u001b[0m",
      "\u001b[1;31mAttributeError\u001b[0m                            Traceback (most recent call last)",
      "\u001b[1;32mc:\\Users\\Kaila\\AI_AGENTS\\learn.ipynb Cell 12\u001b[0m line \u001b[0;36m1\n\u001b[0;32m     <a href='vscode-notebook-cell:/c%3A/Users/Kaila/AI_AGENTS/learn.ipynb#X15sZmlsZQ%3D%3D?line=13'>14</a>\u001b[0m \u001b[39mimport\u001b[39;00m\u001b[39m \u001b[39m\u001b[39mpkgutil\u001b[39;00m\n\u001b[0;32m     <a href='vscode-notebook-cell:/c%3A/Users/Kaila/AI_AGENTS/learn.ipynb#X15sZmlsZQ%3D%3D?line=14'>15</a>\u001b[0m \u001b[39mprint\u001b[39m(\u001b[39m\"\u001b[39m\u001b[39m\\n\u001b[39;00m\u001b[39m=== AVAILABLE MODULES ===\u001b[39m\u001b[39m\"\u001b[39m)\n\u001b[1;32m---> <a href='vscode-notebook-cell:/c%3A/Users/Kaila/AI_AGENTS/learn.ipynb#X15sZmlsZQ%3D%3D?line=15'>16</a>\u001b[0m \u001b[39mfor\u001b[39;00m module_info \u001b[39min\u001b[39;00m pkgutil\u001b[39m.\u001b[39miter_modules(concordia\u001b[39m.\u001b[39;49m__path__, concordia\u001b[39m.\u001b[39m\u001b[39m__name__\u001b[39m \u001b[39m+\u001b[39m \u001b[39m\"\u001b[39m\u001b[39m.\u001b[39m\u001b[39m\"\u001b[39m):\n\u001b[0;32m     <a href='vscode-notebook-cell:/c%3A/Users/Kaila/AI_AGENTS/learn.ipynb#X15sZmlsZQ%3D%3D?line=16'>17</a>\u001b[0m     \u001b[39mprint\u001b[39m(\u001b[39mf\u001b[39m\u001b[39m\"\u001b[39m\u001b[39m📦 \u001b[39m\u001b[39m{\u001b[39;00mmodule_info\u001b[39m.\u001b[39mname\u001b[39m}\u001b[39;00m\u001b[39m\"\u001b[39m)\n\u001b[0;32m     <a href='vscode-notebook-cell:/c%3A/Users/Kaila/AI_AGENTS/learn.ipynb#X15sZmlsZQ%3D%3D?line=18'>19</a>\u001b[0m \u001b[39m# Try different import patterns\u001b[39;00m\n",
      "\u001b[1;31mAttributeError\u001b[0m: module 'concordia' has no attribute '__path__'"
     ]
    }
   ],
   "source": [
    "# Let's see what you actually have installed\n",
    "import concordia\n",
    "\n",
    "# Check version and available modules\n",
    "print(\"=== YOUR CONCORDIA INSTALLATION ===\")\n",
    "try:\n",
    "    print(f\"Version: {concordia.__version__}\")\n",
    "except:\n",
    "    print(\"Version: Could not determine\")\n",
    "\n",
    "print(f\"Location: {concordia.__file__}\")\n",
    "\n",
    "# Explore what's available in your concordia package\n",
    "import pkgutil\n",
    "print(\"\\n=== AVAILABLE MODULES ===\")\n",
    "for module_info in pkgutil.iter_modules(concordia.__path__, concordia.__name__ + \".\"):\n",
    "    print(f\"📦 {module_info.name}\")\n",
    "\n",
    "# Try different import patterns\n",
    "print(\"\\n=== TESTING IMPORT PATTERNS ===\")\n",
    "\n",
    "# Pattern 1: Google DeepMind style\n",
    "try:\n",
    "    from concordia.components import agent\n",
    "    print(\"✅ Pattern 1 works: concordia.components.agent\")\n",
    "except ImportError as e:\n",
    "    print(f\"❌ Pattern 1 failed: {e}\")\n",
    "\n",
    "# Pattern 2: Different structure\n",
    "try:\n",
    "    from concordia import agents\n",
    "    print(\"✅ Pattern 2 works: concordia.agents\")\n",
    "except ImportError as e:\n",
    "    print(f\"❌ Pattern 2 failed: {e}\")\n",
    "\n",
    "# Pattern 3: Direct imports\n",
    "try:\n",
    "    from concordia import memory\n",
    "    print(\"✅ Pattern 3 works: concordia.memory\")\n",
    "except ImportError as e:\n",
    "    print(f\"❌ Pattern 3 failed: {e}\")\n",
    "\n",
    "# Pattern 4: Check what's directly available\n",
    "print(f\"\\n=== DIRECT ATTRIBUTES ===\")\n",
    "attributes = [attr for attr in dir(concordia) if not attr.startswith('_')]\n",
    "for attr in attributes:\n",
    "    print(f\"🔧 concordia.{attr}\")\n"
   ]
  },
  {
   "cell_type": "code",
   "execution_count": 17,
   "metadata": {},
   "outputs": [
    {
     "ename": "ModuleNotFoundError",
     "evalue": "No module named 'concordia.components'; 'concordia' is not a package",
     "output_type": "error",
     "traceback": [
      "\u001b[1;31m---------------------------------------------------------------------------\u001b[0m",
      "\u001b[1;31mModuleNotFoundError\u001b[0m                       Traceback (most recent call last)",
      "\u001b[1;32mc:\\Users\\Kaila\\AI_AGENTS\\learn.ipynb Cell 13\u001b[0m line \u001b[0;36m1\n\u001b[1;32m----> <a href='vscode-notebook-cell:/c%3A/Users/Kaila/AI_AGENTS/learn.ipynb#X14sZmlsZQ%3D%3D?line=0'>1</a>\u001b[0m \u001b[39mfrom\u001b[39;00m\u001b[39m \u001b[39m\u001b[39mconcordia\u001b[39;00m\u001b[39m.\u001b[39;00m\u001b[39mcomponents\u001b[39;00m\u001b[39m \u001b[39m\u001b[39mimport\u001b[39;00m agent \u001b[39mas\u001b[39;00m agent_components\n\u001b[0;32m      <a href='vscode-notebook-cell:/c%3A/Users/Kaila/AI_AGENTS/learn.ipynb#X14sZmlsZQ%3D%3D?line=1'>2</a>\u001b[0m \u001b[39mfrom\u001b[39;00m\u001b[39m \u001b[39m\u001b[39mconcordia\u001b[39;00m\u001b[39m.\u001b[39;00m\u001b[39massociative_memory\u001b[39;00m\u001b[39m \u001b[39m\u001b[39mimport\u001b[39;00m associative_memory\n\u001b[0;32m      <a href='vscode-notebook-cell:/c%3A/Users/Kaila/AI_AGENTS/learn.ipynb#X14sZmlsZQ%3D%3D?line=2'>3</a>\u001b[0m \u001b[39mfrom\u001b[39;00m\u001b[39m \u001b[39m\u001b[39mconcordia\u001b[39;00m\u001b[39m.\u001b[39;00m\u001b[39mlanguage_model\u001b[39;00m\u001b[39m \u001b[39m\u001b[39mimport\u001b[39;00m language_model\n",
      "\u001b[1;31mModuleNotFoundError\u001b[0m: No module named 'concordia.components'; 'concordia' is not a package"
     ]
    }
   ],
   "source": [
    "\n",
    "    from concordia.components import agent as agent_components\n",
    "    from concordia.associative_memory import associative_memory\n",
    "    from concordia.language_model import language_model\n",
    "    HAVE_CONCORDIA = True\n",
    "    "
   ]
  }
 ],
 "metadata": {
  "kernelspec": {
   "display_name": "Python 3",
   "language": "python",
   "name": "python3"
  },
  "language_info": {
   "codemirror_mode": {
    "name": "ipython",
    "version": 3
   },
   "file_extension": ".py",
   "mimetype": "text/x-python",
   "name": "python",
   "nbconvert_exporter": "python",
   "pygments_lexer": "ipython3",
   "version": "3.9.0"
  }
 },
 "nbformat": 4,
 "nbformat_minor": 2
}
